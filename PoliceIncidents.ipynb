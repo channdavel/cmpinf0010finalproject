{
 "cells": [
  {
   "cell_type": "markdown",
   "metadata": {},
   "source": [
    "# Police Incident Data Analysis\n",
    "\n",
    "---\n",
    "\n",
    "## Import the data"
   ]
  },
  {
   "cell_type": "code",
   "execution_count": null,
   "metadata": {},
   "outputs": [],
   "source": [
    "import pandas as pd\n",
    "\n",
    "data = pd.read_csv('PoliceIncidentData.csv')\n",
    "neighborhood_counts = data['INCIDENTNEIGHBORHOOD'].value_counts().reset_index()\n",
    "neighborhood_counts.columns = ['Neighborhood', 'Police Incident Count']\n",
    "print(neighborhood_counts)"
   ]
  },
  {
   "cell_type": "markdown",
   "metadata": {},
   "source": [
    "I formatted the data in descending order by how many incidents have happened in a neighborhood and shows the five highest and lowest incident neighborhoods."
   ]
  },
  {
   "cell_type": "code",
   "execution_count": null,
   "metadata": {},
   "outputs": [],
   "source": [
    "import pandas as pd\n",
    "import matplotlib.pyplot as plt\n",
    "\n",
    "data = pd.read_csv('PoliceIncidentData.csv')\n",
    "\n",
    "neighborhood_counts = data['INCIDENTNEIGHBORHOOD'].value_counts()\n",
    "\n",
    "plt.figure(figsize=(20, 10))\n",
    "neighborhood_counts.plot(kind='bar')\n",
    "plt.title('Police Incidents by Neighborhood')\n",
    "plt.xlabel('Neighborhood')\n",
    "plt.ylabel('Police Incident Count')\n",
    "plt.tight_layout()\n",
    "plt.show()"
   ]
  },
  {
   "cell_type": "markdown",
   "metadata": {},
   "source": [
    "The format of the map is in descending order from the neighborhoods with the most incidents to the neighborhood with the least. This map gives some data as Central Business District, South Side Flats, Carrick and Shadyside are some of the areas with the most incidents while Mt. Oliver Boro, Mt oliver Neighborhood and Troy Hill-Herrs Island are some with the least incidents. This would help us as it shows that Carrick and the other high incident neighborhoods would be more likely to have a superhero patrolling to save them."
   ]
  }
 ],
 "metadata": {
  "kernelspec": {
   "display_name": "Python 3",
   "language": "python",
   "name": "python3"
  },
  "language_info": {
   "codemirror_mode": {
    "name": "ipython",
    "version": 3
   },
   "file_extension": ".py",
   "mimetype": "text/x-python",
   "name": "python",
   "nbconvert_exporter": "python",
   "pygments_lexer": "ipython3",
   "version": "3.8.3"
  }
 },
 "nbformat": 4,
 "nbformat_minor": 4
}
